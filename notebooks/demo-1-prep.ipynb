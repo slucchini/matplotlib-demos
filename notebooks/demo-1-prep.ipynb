{
 "cells": [
  {
   "cell_type": "markdown",
   "metadata": {},
   "source": [
    "# Demo 1 - Data Prep"
   ]
  },
  {
   "cell_type": "markdown",
   "metadata": {},
   "source": [
    "In order to run this notebook locally, you will need the following packages installed. All are installable via pip (`python3 -m pip install <package-name>`).\n",
    "- numpy\n",
    "- astropy\n",
    "- h5py"
   ]
  },
  {
   "cell_type": "code",
   "execution_count": 8,
   "metadata": {},
   "outputs": [],
   "source": [
    "import h5py, numpy as np, astropy.units as u, astropy.constants as constants\n",
    "from vortrace import vortrace as vt\n",
    "mol_frac = 4.0 / (1.0 + 3.0 * 0.76);"
   ]
  },
  {
   "cell_type": "code",
   "execution_count": 3,
   "metadata": {},
   "outputs": [],
   "source": [
    "with h5py.File(\"../data/galaxy.hdf5\",'r') as f:\n",
    "    pos = f['PartType0/Coordinates'][:]\n",
    "    pos -= f['PartType5/Coordinates'][0]\n",
    "    mass = f['PartType0/Masses'][:]\n",
    "    rho = f['PartType0/Density'][:]\n",
    "\n",
    "rho = (np.array(rho).astype(np.float64)*1e10*u.Msun/u.kpc**3/(mol_frac*constants.m_p.to(u.Msun))).to(u.cm**-3).value"
   ]
  },
  {
   "cell_type": "code",
   "execution_count": 4,
   "metadata": {},
   "outputs": [
    {
     "name": "stdout",
     "output_type": "stream",
     "text": [
      "Applied bounding box filter: 2387832 -> 1869391 particles\n",
      "Loading pre-filtered points...\n",
      "npart: 1869391\n",
      "Snapshot loaded.\n",
      "Building tree...\n",
      " Done.\n",
      "Making projection...\n",
      "Projection complete.\n",
      "Making projection...\n",
      "Projection complete.\n"
     ]
    }
   ],
   "source": [
    "boxsz = 300\n",
    "boundbox = np.array([[-boxsz,boxsz] for i in range(3)])\n",
    "imsz = 100\n",
    "nres = 512\n",
    "center = [0,0,0]\n",
    "bounds = [-imsz,imsz]\n",
    "extent = [[-imsz,imsz],[-imsz,imsz]]\n",
    "\n",
    "pc = vt.ProjectionCloud(pos,rho,boundbox=np.ravel(boundbox))\n",
    "vmap1 = pc.grid_projection(extent,nres,bounds,center,proj='xy')*u.kpc.to(u.cm)\n",
    "vmap2 = pc.grid_projection(extent,nres,bounds,center,proj='xz')*u.kpc.to(u.cm)"
   ]
  },
  {
   "cell_type": "code",
   "execution_count": 9,
   "metadata": {},
   "outputs": [],
   "source": [
    "np.save(\"../data/vmap1.npy\",vmap1)\n",
    "np.save(\"../data/vmap2.npy\",vmap2)"
   ]
  },
  {
   "cell_type": "code",
   "execution_count": 6,
   "metadata": {},
   "outputs": [],
   "source": [
    "rbins = np.linspace(0,100,101)\n",
    "dr = rbins[1]-rbins[0]\n",
    "\n",
    "radii = np.linalg.norm(pos,axis=1)\n",
    "dens = []\n",
    "for ri in rbins:\n",
    "    rmask = (radii > ri) & (radii < ri+dr)\n",
    "    menc = np.sum(mass[rmask])*1e10*u.Msun\n",
    "    vol = 4/3.*np.pi*((ri+dr)**3-ri**3)*u.kpc**3\n",
    "    dens.append((menc/vol).to(u.Msun/u.kpc**3).value)\n",
    "dens = np.array(dens)"
   ]
  },
  {
   "cell_type": "code",
   "execution_count": 11,
   "metadata": {},
   "outputs": [],
   "source": [
    "np.save(\"../data/radial_density.npy\",[rbins,dens])"
   ]
  },
  {
   "cell_type": "code",
   "execution_count": null,
   "metadata": {},
   "outputs": [],
   "source": []
  }
 ],
 "metadata": {
  "kernelspec": {
   "display_name": "Python 3",
   "language": "python",
   "name": "python3"
  },
  "language_info": {
   "codemirror_mode": {
    "name": "ipython",
    "version": 3
   },
   "file_extension": ".py",
   "mimetype": "text/x-python",
   "name": "python",
   "nbconvert_exporter": "python",
   "pygments_lexer": "ipython3",
   "version": "3.10.4"
  },
  "orig_nbformat": 4
 },
 "nbformat": 4,
 "nbformat_minor": 2
}
